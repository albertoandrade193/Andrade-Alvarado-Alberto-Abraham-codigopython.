{
 "cells": [
  {
   "cell_type": "code",
   "execution_count": 16,
   "id": "c05048f6",
   "metadata": {},
   "outputs": [
    {
     "name": "stdout",
     "output_type": "stream",
     "text": [
      "R1?5\n",
      "R2?5\n",
      "El valor de la resitencia es = 10.0\n"
     ]
    }
   ],
   "source": [
    "R1=float(input(\"R1?\"))\n",
    "R2=float(input(\"R2?\"))\n",
    "req=R1+R2\n",
    "print (\"El valor de la resitencia es =\",req)"
   ]
  },
  {
   "cell_type": "code",
   "execution_count": null,
   "id": "0a744719",
   "metadata": {},
   "outputs": [],
   "source": []
  }
 ],
 "metadata": {
  "kernelspec": {
   "display_name": "Python 3",
   "language": "python",
   "name": "python3"
  },
  "language_info": {
   "codemirror_mode": {
    "name": "ipython",
    "version": 3
   },
   "file_extension": ".py",
   "mimetype": "text/x-python",
   "name": "python",
   "nbconvert_exporter": "python",
   "pygments_lexer": "ipython3",
   "version": "3.8.8"
  }
 },
 "nbformat": 4,
 "nbformat_minor": 5
}
