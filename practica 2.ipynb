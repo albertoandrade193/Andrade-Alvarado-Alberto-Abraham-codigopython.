{
 "cells": [
  {
   "cell_type": "code",
   "execution_count": 6,
   "id": "9b767106",
   "metadata": {},
   "outputs": [
    {
     "name": "stdout",
     "output_type": "stream",
     "text": [
      "Ingresa tu nombre: Alberto\n",
      "Ingresa tu telefono: 55555555\n",
      "Ingresa tu correo: alberto@gmail.com\n",
      "Hola bienvenido Alberto\n",
      "Tu telefono es 55555555\n",
      "Tu correo es alberto@gmail.com\n"
     ]
    }
   ],
   "source": [
    "nombre = input(\"Ingresa tu nombre: \")\n",
    "telefono = input(\"Ingresa tu telefono: \")\n",
    "correo = input(\"Ingresa tu correo: \")\n",
    "print(\"Hola bienvenido \" + nombre)\n",
    "print(\"Tu telefono es \" + telefono)\n",
    "print(\"Tu correo es \" + correo)"
   ]
  },
  {
   "cell_type": "code",
   "execution_count": null,
   "id": "2d48fa66",
   "metadata": {},
   "outputs": [],
   "source": []
  }
 ],
 "metadata": {
  "kernelspec": {
   "display_name": "Python 3",
   "language": "python",
   "name": "python3"
  },
  "language_info": {
   "codemirror_mode": {
    "name": "ipython",
    "version": 3
   },
   "file_extension": ".py",
   "mimetype": "text/x-python",
   "name": "python",
   "nbconvert_exporter": "python",
   "pygments_lexer": "ipython3",
   "version": "3.8.8"
  }
 },
 "nbformat": 4,
 "nbformat_minor": 5
}
