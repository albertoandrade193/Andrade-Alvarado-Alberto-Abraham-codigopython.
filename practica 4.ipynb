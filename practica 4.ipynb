{
 "cells": [
  {
   "cell_type": "code",
   "execution_count": 35,
   "id": "11c0a68e",
   "metadata": {},
   "outputs": [
    {
     "name": "stdout",
     "output_type": "stream",
     "text": [
      "Ingrese los valores:\n",
      "|a b|\n",
      "|c d|\n",
      "Ingrese el valor a 8\n",
      "Ingrese el valor b 6\n",
      "Ingrese el valor c 2\n",
      "Ingrese el valor d 7\n",
      "Determinante:  44.0\n"
     ]
    }
   ],
   "source": [
    "print (\"Ingrese los valores:\")\n",
    "print (\"|a b|\") \n",
    "print (\"|c d|\")\n",
    "a = float(input('Ingrese el valor a ')) \n",
    "b = float(input('Ingrese el valor b ')) \n",
    "c = float(input('Ingrese el valor c ')) \n",
    "d = float(input('Ingrese el valor d ')) \n",
    "total =a*d-b*c \n",
    "if total!=0: \n",
    "  print (\"Determinante: \",total)\n",
    "else: \n",
    "   print (\"Error el det. da 0\")\n",
    "\n"
   ]
  },
  {
   "cell_type": "code",
   "execution_count": null,
   "id": "08ea33c8",
   "metadata": {},
   "outputs": [],
   "source": []
  },
  {
   "cell_type": "code",
   "execution_count": null,
   "id": "1ecb3969",
   "metadata": {},
   "outputs": [],
   "source": []
  }
 ],
 "metadata": {
  "kernelspec": {
   "display_name": "Python 3",
   "language": "python",
   "name": "python3"
  },
  "language_info": {
   "codemirror_mode": {
    "name": "ipython",
    "version": 3
   },
   "file_extension": ".py",
   "mimetype": "text/x-python",
   "name": "python",
   "nbconvert_exporter": "python",
   "pygments_lexer": "ipython3",
   "version": "3.8.8"
  }
 },
 "nbformat": 4,
 "nbformat_minor": 5
}
